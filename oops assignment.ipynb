{
 "cells": [
  {
   "cell_type": "code",
   "execution_count": 106,
   "metadata": {},
   "outputs": [
    {
     "data": {
      "text/plain": [
       "'\\nThe five key concepts of OOP are:\\n1. **Encapsulation**: Wrapping data (variables) and methods (functions) that operate on the data into a single unit called a class.\\n2. **Abstraction**: Hiding the complex reality while exposing only the necessary parts. Abstract classes and interfaces are used to implement abstraction.\\n3. **Inheritance**: Allowing one class to inherit properties and behaviors (methods) from another class.\\n4. **Polymorphism**: Providing a single interface to entities of different types. In simple terms, the ability to redefine methods for different types.\\n5. **Association**: Describes the relationship between two classes (e.g., aggregation, composition).\\n'"
      ]
     },
     "execution_count": 106,
     "metadata": {},
     "output_type": "execute_result"
    }
   ],
   "source": [
    "# Question 1: What are the five key concepts of Object-Oriented Programming (OOP)?\n",
    "\"\"\"\n",
    "The five key concepts of OOP are:\n",
    "1. **Encapsulation**: Wrapping data (variables) and methods (functions) that operate on the data into a single unit called a class.\n",
    "2. **Abstraction**: Hiding the complex reality while exposing only the necessary parts. Abstract classes and interfaces are used to implement abstraction.\n",
    "3. **Inheritance**: Allowing one class to inherit properties and behaviors (methods) from another class.\n",
    "4. **Polymorphism**: Providing a single interface to entities of different types. In simple terms, the ability to redefine methods for different types.\n",
    "5. **Association**: Describes the relationship between two classes (e.g., aggregation, composition).\n",
    "\"\"\""
   ]
  },
  {
   "cell_type": "code",
   "execution_count": 107,
   "metadata": {},
   "outputs": [
    {
     "name": "stdout",
     "output_type": "stream",
     "text": [
      "Car Make: Toyota, Model: Corolla, Year: 2021\n"
     ]
    }
   ],
   "source": [
    "# Question 2: Write a Python class for a `Car` with attributes for `make`, `model`, and `year`. \n",
    "# Include a method to display the car's information.\n",
    "\"\"\"\n",
    "In OOP, a class acts as a blueprint for creating objects (instances). The `__init__()` method in Python is the constructor that initializes an object's state. \n",
    "In this question, we define a `Car` class with three attributes: `make`, `model`, and `year`. We also provide a method `display_info()` to print the car's details.\n",
    "\"\"\"\n",
    "\n",
    "class Car:\n",
    "    def __init__(self, make, model, year):\n",
    "        self.make = make\n",
    "        self.model = model\n",
    "        self.year = year\n",
    "    \n",
    "    def display_info(self):\n",
    "        return f\"Car Make: {self.make}, Model: {self.model}, Year: {self.year}\"\n",
    "\n",
    "# Example usage:\n",
    "my_car = Car(\"Toyota\", \"Corolla\", 2021)\n",
    "print(my_car.display_info())"
   ]
  },
  {
   "cell_type": "code",
   "execution_count": 108,
   "metadata": {},
   "outputs": [
    {
     "name": "stdout",
     "output_type": "stream",
     "text": [
      "This is an instance method. It requires an instance of the class.\n",
      "This is a class method. It doesn't require an instance, only the class itself.\n"
     ]
    }
   ],
   "source": [
    "# Question 3: Explain the difference between instance methods and class methods. Provide an example of each.\n",
    "\"\"\"\n",
    "In Python, methods can be classified into three types: instance methods, class methods, and static methods.\n",
    "\n",
    "1. **Instance Methods**:\n",
    "   - These are the most common methods in Python classes and operate on instances of the class. They take `self` as the first parameter, which represents the instance calling the method.\n",
    "   - Instance methods can access or modify the instance's attributes and can also invoke other instance methods.\n",
    "\n",
    "2. **Class Methods**:\n",
    "   - Class methods take `cls` as the first parameter, which represents the class itself rather than an instance of the class. They are defined using the `@classmethod` decorator.\n",
    "   - Class methods are often used for factory methods or to modify class-level attributes that are shared across all instances.\n",
    "\n",
    "Example:\n",
    "\"\"\"\n",
    "\n",
    "class ExampleClass:\n",
    "    def instance_method(self):\n",
    "        return \"This is an instance method. It requires an instance of the class.\"\n",
    "    \n",
    "    @classmethod\n",
    "    def class_method(cls):\n",
    "        return \"This is a class method. It doesn't require an instance, only the class itself.\"\n",
    "\n",
    "# Example usage:\n",
    "example = ExampleClass()\n",
    "print(example.instance_method())  # Calling instance method\n",
    "print(ExampleClass.class_method())  # Calling class method"
   ]
  },
  {
   "cell_type": "code",
   "execution_count": 109,
   "metadata": {},
   "outputs": [
    {
     "name": "stdout",
     "output_type": "stream",
     "text": [
      "15\n",
      "7\n",
      "No arguments provided\n"
     ]
    }
   ],
   "source": [
    "# Question 4: How does Python implement method overloading? Give an example.\n",
    "\"\"\"\n",
    "Unlike languages like Java, Python does not support method overloading (i.e., defining multiple methods with the same name but different signatures) directly.\n",
    "However, Python achieves similar behavior using default arguments, variable-length arguments (*args, **kwargs), or by checking the types or number of arguments inside the method.\n",
    "\n",
    "Example:\n",
    "In the `OverloadExample` class, the method `method()` can behave differently depending on whether one, two, or no arguments are provided. This mimics the behavior of method overloading.\n",
    "\"\"\"\n",
    "\n",
    "class OverloadExample:\n",
    "    def method(self, a=None, b=None):\n",
    "        if a is not None and b is not None:\n",
    "            return a + b\n",
    "        elif a is not None:\n",
    "            return a\n",
    "        else:\n",
    "            return \"No arguments provided\"\n",
    "\n",
    "# Example usage:\n",
    "obj = OverloadExample()\n",
    "print(obj.method(5, 10))  # Outputs: 15\n",
    "print(obj.method(7))  # Outputs: 7\n",
    "print(obj.method())  # Outputs: No arguments provided"
   ]
  },
  {
   "cell_type": "code",
   "execution_count": 110,
   "metadata": {},
   "outputs": [
    {
     "name": "stdout",
     "output_type": "stream",
     "text": [
      "I am public\n",
      "I am protected\n"
     ]
    }
   ],
   "source": [
    "# Question 5: What are the three types of access modifiers in Python? How are they denoted?\n",
    "\"\"\"\n",
    "Access modifiers determine the visibility and accessibility of class members (attributes and methods) in OOP. Python has three types of access modifiers:\n",
    "\n",
    "1. **Public**:\n",
    "   - Public members can be accessed from anywhere inside or outside the class. In Python, all attributes and methods are public by default unless otherwise specified.\n",
    "   - Example: `self.attribute`\n",
    "\n",
    "2. **Protected**:\n",
    "   - Protected members are accessible within the class and its subclasses. They are denoted by a single underscore prefix (`_attribute`). \n",
    "   - In Python, protected members are a convention rather than an enforced rule, meaning they can still be accessed outside the class, but it's discouraged.\n",
    "\n",
    "3. **Private**:\n",
    "   - Private members are accessible only within the class that defines them. They are denoted by a double underscore prefix (`__attribute`). \n",
    "   - Python performs name mangling for private members to make them harder to access from outside the class.\n",
    "\n",
    "Example:\n",
    "\"\"\"\n",
    "\n",
    "class AccessModifiersExample:\n",
    "    def __init__(self):\n",
    "        self.public = \"I am public\"\n",
    "        self._protected = \"I am protected\"\n",
    "        self.__private = \"I am private\"\n",
    "\n",
    "# Example usage:\n",
    "modifiers = AccessModifiersExample()\n",
    "print(modifiers.public)  # Accessing public attribute\n",
    "print(modifiers._protected)  # Accessing protected attribute (not recommended)\n",
    "# print(modifiers.__private)  # Would raise an error: AttributeError"
   ]
  },
  {
   "cell_type": "code",
   "execution_count": 111,
   "metadata": {},
   "outputs": [
    {
     "name": "stdout",
     "output_type": "stream",
     "text": [
      "Method from Parent1\n",
      "Method from Parent2\n"
     ]
    }
   ],
   "source": [
    "# Question 6: Describe the five types of inheritance in Python. Provide a simple example of multiple inheritance.\n",
    "\"\"\"\n",
    "Inheritance allows a class to acquire the properties and behaviors of another class. In Python, there are five types of inheritance:\n",
    "\n",
    "1. **Single Inheritance**: A class inherits from one superclass.\n",
    "   - Example: class `Child` inherits from class `Parent`.\n",
    "\n",
    "2. **Multiple Inheritance**: A class inherits from more than one superclass.\n",
    "   - Example: class `Child` inherits from both `Parent1` and `Parent2`.\n",
    "\n",
    "3. **Multilevel Inheritance**: A class inherits from a class that is also a subclass.\n",
    "   - Example: class `Grandchild` inherits from class `Child`, which inherits from class `Parent`.\n",
    "\n",
    "4. **Hierarchical Inheritance**: Multiple classes inherit from the same superclass.\n",
    "   - Example: classes `Child1` and `Child2` both inherit from class `Parent`.\n",
    "\n",
    "5. **Hybrid Inheritance**: A combination of two or more types of inheritance.\n",
    "   - Example: A combination of hierarchical and multiple inheritance.\n",
    "\n",
    "Example of Multiple Inheritance:\n",
    "\"\"\"\n",
    "\n",
    "class Parent1:\n",
    "    def method_parent1(self):\n",
    "        return \"Method from Parent1\"\n",
    "    \n",
    "class Parent2:\n",
    "    def method_parent2(self):\n",
    "        return \"Method from Parent2\"\n",
    "\n",
    "class Child(Parent1, Parent2):\n",
    "    pass\n",
    "\n",
    "# Example usage:\n",
    "child = Child()\n",
    "print(child.method_parent1())  # Outputs: Method from Parent1\n",
    "print(child.method_parent2())  # Outputs: Method from Parent2"
   ]
  },
  {
   "cell_type": "code",
   "execution_count": 112,
   "metadata": {},
   "outputs": [
    {
     "name": "stdout",
     "output_type": "stream",
     "text": [
      "[<class '__main__.Child'>, <class '__main__.Parent1'>, <class '__main__.Parent2'>, <class 'object'>]\n"
     ]
    }
   ],
   "source": [
    "# Question 7: What is the Method Resolution Order (MRO) in Python? How can you retrieve it programmatically?\n",
    "\"\"\"\n",
    "The Method Resolution Order (MRO) in Python determines the order in which methods are inherited in the presence of multiple inheritance. \n",
    "It is the order in which Python searches for a method in the class hierarchy. \n",
    "Python uses the C3 Linearization algorithm to compute the MRO.\n",
    "\n",
    "The MRO can be retrieved programmatically using:\n",
    "- The `__mro__` attribute (returns a tuple of classes).\n",
    "- The `mro()` method (returns a list of classes).\n",
    "\n",
    "Example:\n",
    "\"\"\"\n",
    "\n",
    "# Example usage:\n",
    "print(Child.mro())  # Displays the Method Resolution Order"
   ]
  },
  {
   "cell_type": "code",
   "execution_count": 113,
   "metadata": {},
   "outputs": [
    {
     "name": "stdout",
     "output_type": "stream",
     "text": [
      "78.5\n",
      "50\n"
     ]
    }
   ],
   "source": [
    "# Question 8: Create an abstract base class `Shape` with an abstract method `area()`. \n",
    "# Then create two subclasses `Circle` and `Rectangle` that implement the `area()` method.\n",
    "\"\"\"\n",
    "An abstract class is a class that cannot be instantiated and is meant to be subclassed. \n",
    "It serves as a template for other classes. In Python, abstract classes are created using the `abc` module, and methods that must be implemented by subclasses are marked with the `@abstractmethod` decorator.\n",
    "\n",
    "Example:\n",
    "Here, `Shape` is an abstract class with an abstract method `area()`. The subclasses `Circle` and `Rectangle` implement this method.\n",
    "\"\"\"\n",
    "\n",
    "from abc import ABC, abstractmethod\n",
    "\n",
    "class Shape(ABC):\n",
    "    @abstractmethod\n",
    "    def area(self):\n",
    "        pass\n",
    "\n",
    "class Circle(Shape):\n",
    "    def __init__(self, radius):\n",
    "        self.radius = radius\n",
    "    \n",
    "    def area(self):\n",
    "        return 3.14 * self.radius ** 2\n",
    "\n",
    "class Rectangle(Shape):\n",
    "    def __init__(self, length, width):\n",
    "        self.length = length\n",
    "        self.width = width\n",
    "    \n",
    "    def area(self):\n",
    "        return self.length * self.width\n",
    "\n",
    "# Example usage:\n",
    "circle = Circle(5)\n",
    "rectangle = Rectangle(10, 5)\n",
    "print(circle.area())  # Outputs: 78.5\n",
    "print(rectangle.area())  "
   ]
  },
  {
   "cell_type": "code",
   "execution_count": 114,
   "metadata": {},
   "outputs": [
    {
     "name": "stdout",
     "output_type": "stream",
     "text": [
      "The area is: 78.5\n",
      "The area is: 50\n"
     ]
    }
   ],
   "source": [
    "# Question 9: Demonstrate polymorphism by creating a function that can work with different shape objects to calculate and print their areas.\n",
    "\"\"\"\n",
    "Polymorphism allows objects of different classes to be treated as objects of a common superclass. \n",
    "This allows for flexibility in code, where the same function can be applied to different types of objects, provided they share a common interface (e.g., an abstract method or superclass).\n",
    "\n",
    "Example:\n",
    "The `print_area()` function works with any shape object that implements the `area()` method, demonstrating polymorphism.\n",
    "\"\"\"\n",
    "\n",
    "def print_area(shape: Shape):\n",
    "    print(f\"The area is: {shape.area()}\")\n",
    "\n",
    "# Example usage:\n",
    "print_area(circle)  # The area is: 78.5\n",
    "print_area(rectangle)  # The area is: 50"
   ]
  },
  {
   "cell_type": "code",
   "execution_count": 115,
   "metadata": {},
   "outputs": [
    {
     "name": "stdout",
     "output_type": "stream",
     "text": [
      "500\n"
     ]
    }
   ],
   "source": [
    "# Question 10: Implement encapsulation in a `BankAccount` class with private attributes for `balance` and `account_number`. \n",
    "# Include methods for deposit, withdrawal, and balance inquiry.\n",
    "\"\"\"\n",
    "Encapsulation is a key OOP concept that restricts access to certain components of an object, making the internal state private and only accessible through well-defined interfaces (methods).\n",
    "In Python, encapsulation is achieved using private attributes (with double underscores `__`), and interaction with these attributes is done through public methods.\n",
    "\n",
    "Example:\n",
    "The `BankAccount` class encapsulates its `balance` and `account_number` attributes by making them private. It provides public methods for deposit, withdrawal, and balance inquiry.\n",
    "\"\"\"\n",
    "\n",
    "class BankAccount:\n",
    "    def __init__(self, account_number, balance=0):\n",
    "        self.__account_number = account_number\n",
    "        self.__balance = balance\n",
    "    \n",
    "    def deposit(self, amount):\n",
    "        if amount > 0:\n",
    "            self.__balance += amount\n",
    "    \n",
    "    def withdraw(self, amount):\n",
    "        if 0 < amount <= self.__balance:\n",
    "            self.__balance -= amount\n",
    "        else:\n",
    "            print(\"Insufficient balance!\")\n",
    "    \n",
    "    def get_balance(self):\n",
    "        return self.__balance\n",
    "\n",
    "# Example usage:\n",
    "account = BankAccount(\"123456\")\n",
    "account.deposit(1000)\n",
    "account.withdraw(500)\n",
    "print(account.get_balance())  # Outputs: 500"
   ]
  },
  {
   "cell_type": "code",
   "execution_count": 116,
   "metadata": {},
   "outputs": [
    {
     "name": "stdout",
     "output_type": "stream",
     "text": [
      "CustomNumber: 10\n",
      "CustomNumber: 30\n"
     ]
    }
   ],
   "source": [
    "# Question 11: Write a class that overrides the `__str__` and `__add__` magic methods. What will these methods allow you to do?\n",
    "\"\"\"\n",
    "Magic methods (also known as dunder methods) in Python allow you to define how objects of a class behave with built-in operations, such as printing or adding. Two common magic methods are:\n",
    "\n",
    "1. **`__str__()`**: Defines the string representation of an object when printed or converted to a string using `str()`.\n",
    "2. **`__add__()`**: Defines the behavior of the `+` operator when used between two objects of the class.\n",
    "\n",
    "Example:\n",
    "In the `CustomNumber` class, the `__str__()` method allows the object to be printed in a custom format, while the `__add__()` method allows two `CustomNumber` objects to be added together.\n",
    "\"\"\"\n",
    "\n",
    "class CustomNumber:\n",
    "    def __init__(self, value):\n",
    "        self.value = value\n",
    "    \n",
    "    def __str__(self):\n",
    "        return f\"CustomNumber: {self.value}\"\n",
    "    \n",
    "    def __add__(self, other):\n",
    "        if isinstance(other, CustomNumber):\n",
    "            return CustomNumber(self.value + other.value)\n",
    "        return NotImplemented\n",
    "\n",
    "# Example usage:\n",
    "num1 = CustomNumber(10)\n",
    "num2 = CustomNumber(20)\n",
    "print(num1)  # Outputs: CustomNumber: 10\n",
    "result = num1 + num2  # Uses the __add__ method\n",
    "print(result)  # Outputs: CustomNumber: 30"
   ]
  },
  {
   "cell_type": "code",
   "execution_count": 117,
   "metadata": {},
   "outputs": [
    {
     "name": "stdout",
     "output_type": "stream",
     "text": [
      "Execution time: 2.0007269382476807 seconds\n"
     ]
    }
   ],
   "source": [
    "# Question 12: Create a decorator that measures and prints the execution time of a function.\n",
    "\"\"\"\n",
    "A decorator is a higher-order function that takes another function and extends or alters its behavior without explicitly modifying it. \n",
    "In this case, we create a decorator that measures and prints the execution time of a function.\n",
    "\n",
    "Example:\n",
    "The `timing_decorator()` decorator wraps a function and calculates how long it takes to execute using the `time` module.\n",
    "\"\"\"\n",
    "\n",
    "import time\n",
    "\n",
    "def timing_decorator(func):\n",
    "    def wrapper(*args, **kwargs):\n",
    "        start_time = time.time()\n",
    "        result = func(*args, **kwargs)\n",
    "        end_time = time.time()\n",
    "        print(f\"Execution time: {end_time - start_time} seconds\")\n",
    "        return result\n",
    "    return wrapper\n",
    "\n",
    "# Example usage:\n",
    "@timing_decorator\n",
    "def example_function():\n",
    "    time.sleep(2)  # Simulating a delay\n",
    "\n",
    "example_function()"
   ]
  },
  {
   "cell_type": "code",
   "execution_count": 118,
   "metadata": {},
   "outputs": [
    {
     "name": "stdout",
     "output_type": "stream",
     "text": [
      "Hello from B\n"
     ]
    }
   ],
   "source": [
    "# Question 13: Explain the concept of the Diamond Problem in multiple inheritance. How does Python resolve it?\n",
    "\"\"\"\n",
    "The Diamond Problem arises in multiple inheritance when a class inherits from two classes that both inherit from a common superclass. \n",
    "This creates ambiguity about which superclass's method should be invoked when the method is called.\n",
    "\n",
    "Example:\n",
    "Class `D` inherits from both `B` and `C`, which both inherit from `A`. If `A` defines a method, and `B` and `C` do not override it, it creates ambiguity about which version of the method `D` should inherit.\n",
    "Python resolves the Diamond Problem using the Method Resolution Order (MRO), which determines the order in which classes are searched for methods.\n",
    "\n",
    "Example:\n",
    "\"\"\"\n",
    "\n",
    "class A:\n",
    "    def greet(self):\n",
    "        return \"Hello from A\"\n",
    "\n",
    "class B(A):\n",
    "    def greet(self):\n",
    "        return \"Hello from B\"\n",
    "\n",
    "class C(A):\n",
    "    def greet(self):\n",
    "        return \"Hello from C\"\n",
    "\n",
    "class D(B, C):\n",
    "    pass\n",
    "\n",
    "# Example usage:\n",
    "d = D()\n",
    "print(d.greet())  # Outputs: Hello from B (based on MRO)"
   ]
  },
  {
   "cell_type": "code",
   "execution_count": 119,
   "metadata": {},
   "outputs": [
    {
     "name": "stdout",
     "output_type": "stream",
     "text": [
      "2\n"
     ]
    }
   ],
   "source": [
    "# Question 14: Write a class method that keeps track of the number of instances created from a class.\n",
    "\"\"\"\n",
    "Class methods can be used to maintain and manipulate class-level attributes, which are shared across all instances of the class. \n",
    "In this example, a class method `get_instance_count()` keeps track of how many instances of the class have been created.\n",
    "\n",
    "Example:\n",
    "\"\"\"\n",
    "\n",
    "class InstanceCounter:\n",
    "    count = 0\n",
    "    \n",
    "    def __init__(self):\n",
    "        InstanceCounter.count += 1\n",
    "    \n",
    "    @classmethod\n",
    "    def get_instance_count(cls):\n",
    "        return cls.count\n",
    "\n",
    "# Example usage:\n",
    "obj1 = InstanceCounter()\n",
    "obj2 = InstanceCounter()\n",
    "print(InstanceCounter.get_instance_count())  # Outputs: 2"
   ]
  },
  {
   "cell_type": "code",
   "execution_count": 120,
   "metadata": {},
   "outputs": [
    {
     "name": "stdout",
     "output_type": "stream",
     "text": [
      "True\n",
      "False\n"
     ]
    }
   ],
   "source": [
    "# Question 15: Implement a static method in a class that checks if a given year is a leap year.\n",
    "\"\"\"\n",
    "Static methods in Python are methods that do not depend on the state of the class or its instances. They behave like regular functions but belong to the class's namespace.\n",
    "Static methods are defined using the `@staticmethod` decorator and can be called without creating an instance of the class.\n",
    "\n",
    "Example:\n",
    "The `DateUtility` class includes a static method `is_leap_year()` that checks whether a given year is a leap year.\n",
    "\"\"\"\n",
    "\n",
    "class DateUtility:\n",
    "    @staticmethod\n",
    "    def is_leap_year(year):\n",
    "        if (year % 4 == 0 and year % 100 != 0) or (year % 400 == 0):\n",
    "            return True\n",
    "        return False\n",
    "\n",
    "# Example usage:\n",
    "print(DateUtility.is_leap_year(2020))  # Outputs: True\n",
    "print(DateUtility.is_leap_year(2021))  # Outputs: False"
   ]
  }
 ],
 "metadata": {
  "kernelspec": {
   "display_name": "Python 3",
   "language": "python",
   "name": "python3"
  },
  "language_info": {
   "codemirror_mode": {
    "name": "ipython",
    "version": 3
   },
   "file_extension": ".py",
   "mimetype": "text/x-python",
   "name": "python",
   "nbconvert_exporter": "python",
   "pygments_lexer": "ipython3",
   "version": "3.11.9"
  }
 },
 "nbformat": 4,
 "nbformat_minor": 2
}
